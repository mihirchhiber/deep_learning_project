{
  "cells": [
    {
      "cell_type": "code",
      "execution_count": 1,
      "metadata": {
        "_cell_guid": "b1076dfc-b9ad-4769-8c92-a6c4dae69d19",
        "_uuid": "8f2839f25d086af736a60e9eeb907d3b93b6e0e5",
        "execution": {
          "iopub.execute_input": "2022-04-01T20:02:23.754496Z",
          "iopub.status.busy": "2022-04-01T20:02:23.753540Z",
          "iopub.status.idle": "2022-04-01T20:02:23.796312Z",
          "shell.execute_reply": "2022-04-01T20:02:23.795646Z",
          "shell.execute_reply.started": "2022-04-01T20:02:23.754444Z"
        },
        "id": "-1Fk6lZ6Kh89"
      },
      "outputs": [],
      "source": [
        "import numpy as np \n",
        "import pandas as pd \n",
        "from sklearn.model_selection import train_test_split\n",
        "from torch.utils.data import Dataset, DataLoader\n",
        "import torch\n",
        "import torch.nn as nn\n",
        "import torch.optim as optim\n",
        "from torch.optim import lr_scheduler\n",
        "from torchvision import datasets, models, transforms\n",
        "import time\n",
        "import copy\n",
        "import cv2\n",
        "from sklearn.metrics import roc_curve, auc, roc_auc_score, classification_report, confusion_matrix\n",
        "import matplotlib.pyplot as plt"
      ]
    },
    {
      "cell_type": "code",
      "execution_count": null,
      "metadata": {
        "id": "UqCF2XG0Kv6r"
      },
      "outputs": [],
      "source": [
        "from google.colab import drive\n",
        "drive.mount('/content/drive')\n",
        "\n",
        "!unzip drive/MyDrive/Data.zip\n",
        "\n",
        "drive.flush_and_unmount()"
      ]
    },
    {
      "cell_type": "code",
      "execution_count": 6,
      "metadata": {
        "id": "RmPDCUlaKh9B"
      },
      "outputs": [],
      "source": [
        "df = pd.read_csv(\"Data/features_30_sec.csv\")\n",
        "df = df[['filename','label']]"
      ]
    },
    {
      "cell_type": "code",
      "execution_count": 7,
      "metadata": {
        "id": "FW9HyigAKh9C"
      },
      "outputs": [],
      "source": [
        "class_name = {}\n",
        "n = 0\n",
        "for i in set(df['label']):\n",
        "    class_name[i] = n\n",
        "    n+=1\n",
        "num_classes = n"
      ]
    },
    {
      "cell_type": "code",
      "execution_count": 8,
      "metadata": {
        "id": "u0l10ILxKh9D"
      },
      "outputs": [],
      "source": [
        "df['label'] = df['label'].map(class_name)"
      ]
    },
    {
      "cell_type": "code",
      "execution_count": 9,
      "metadata": {
        "colab": {
          "base_uri": "https://localhost:8080/"
        },
        "id": "RpUgwjeuKh9D",
        "outputId": "d3d0b36b-1845-442e-f9bb-b8ed5a69de52"
      },
      "outputs": [
        {
          "name": "stderr",
          "output_type": "stream",
          "text": [
            "/usr/local/lib/python3.7/dist-packages/ipykernel_launcher.py:3: SettingWithCopyWarning: \n",
            "A value is trying to be set on a copy of a slice from a DataFrame\n",
            "\n",
            "See the caveats in the documentation: https://pandas.pydata.org/pandas-docs/stable/user_guide/indexing.html#returning-a-view-versus-a-copy\n",
            "  This is separate from the ipykernel package so we can avoid doing imports until\n"
          ]
        }
      ],
      "source": [
        "for i in range(len(df)):\n",
        "    temp = df['filename'][i].split(\".\")\n",
        "    df['filename'][i] = \"Data/images_original/\" + temp[0] + \"/\" + temp[0] + temp[1] + \".png\""
      ]
    },
    {
      "cell_type": "code",
      "execution_count": 10,
      "metadata": {
        "id": "kfIneofqKh9E"
      },
      "outputs": [],
      "source": [
        "train, test = train_test_split(df, test_size=0.20, random_state=42, stratify = df['label'])\n",
        "test, val = train_test_split(test, test_size=0.50, random_state=42, stratify = test['label'])"
      ]
    },
    {
      "cell_type": "code",
      "execution_count": 11,
      "metadata": {
        "colab": {
          "base_uri": "https://localhost:8080/"
        },
        "id": "9IjocTzLKh9F",
        "outputId": "f71cddd7-7d7f-4c3a-c526-939197c1fb35"
      },
      "outputs": [
        {
          "name": "stdout",
          "output_type": "stream",
          "text": [
            "{'train': 799, 'test': 100, 'val': 100}\n"
          ]
        }
      ],
      "source": [
        "dataset_sizes = {'train': len(train), 'test': len(test), 'val': len(val)}\n",
        "print(dataset_sizes)"
      ]
    },
    {
      "cell_type": "code",
      "execution_count": 12,
      "metadata": {
        "id": "MmZfgB66Kh9F"
      },
      "outputs": [],
      "source": [
        "class GenreDataset(Dataset):\n",
        "    \"\"\"Genre dataset.\"\"\"\n",
        "\n",
        "    def __init__(self, csv_file, transform=None):\n",
        "        \"\"\"\n",
        "        Args:\n",
        "            csv_file (string): Path to the csv file with annotations.\n",
        "            transform (callable, optional): Optional transform to be applied\n",
        "                on a sample.\n",
        "        \"\"\"\n",
        "        self.csv = csv_file\n",
        "        self.transform = transform\n",
        "\n",
        "    def __len__(self):\n",
        "        return len(self.csv)\n",
        "\n",
        "    def __getitem__(self, idx):\n",
        "        if torch.is_tensor(idx):\n",
        "            idx = idx.tolist()\n",
        "\n",
        "        img_name = self.csv.iloc[idx, 0]\n",
        "        image = cv2.imread(img_name,cv2.IMREAD_COLOR)\n",
        "        image = cv2.cvtColor(image, cv2.COLOR_BGR2GRAY)\n",
        "        image = np.expand_dims(image, axis=-1)\n",
        "        details = self.csv.iloc[idx, 1:]\n",
        "        sample = {'image': image, 'label': details[0]}\n",
        "\n",
        "        if self.transform:\n",
        "            sample = self.transform(sample)\n",
        "\n",
        "        return sample"
      ]
    },
    {
      "cell_type": "code",
      "execution_count": 13,
      "metadata": {
        "id": "apqhzUBRKh9G"
      },
      "outputs": [],
      "source": [
        "class PreProcessing(object):\n",
        "\n",
        "    def __init__(self):\n",
        "        pass\n",
        "\n",
        "    def __call__(self, sample):\n",
        "        image, turtle_id = sample['image'], sample['label']\n",
        "        h, w = image.shape[:2]\n",
        "        \n",
        "        ### ADD PREPROCESSING CODE HERE\n",
        "        \n",
        "        return [torch.Tensor(image.transpose(2,0,1)), turtle_id]"
      ]
    },
    {
      "cell_type": "code",
      "execution_count": 14,
      "metadata": {
        "id": "3Tnnx_S3Kh9H"
      },
      "outputs": [],
      "source": [
        "train_transformed_dataset = GenreDataset(csv_file=train,\n",
        "                                               transform=transforms.Compose([\n",
        "                                               PreProcessing()\n",
        "                                           ]))\n",
        "test_transformed_dataset = GenreDataset(csv_file=test,\n",
        "                                               transform=transforms.Compose([\n",
        "                                               PreProcessing()\n",
        "                                           ]))\n",
        "val_transformed_dataset = GenreDataset(csv_file=val,\n",
        "                                               transform=transforms.Compose([\n",
        "                                               PreProcessing()\n",
        "                                           ]))"
      ]
    },
    {
      "cell_type": "code",
      "execution_count": 15,
      "metadata": {
        "id": "-mCMdPlEKh9H"
      },
      "outputs": [],
      "source": [
        "dataloaders = {'train' : DataLoader(train_transformed_dataset, batch_size=16,\n",
        "                        shuffle=True, num_workers=0),\n",
        "              'test' : DataLoader(test_transformed_dataset, batch_size=8,\n",
        "                        shuffle=True, num_workers=0),\n",
        "              'val' : DataLoader(val_transformed_dataset, batch_size=16,\n",
        "                        shuffle=True, num_workers=0)}"
      ]
    },
    {
      "cell_type": "code",
      "execution_count": 16,
      "metadata": {
        "id": "CIgT8qDoKh9I"
      },
      "outputs": [],
      "source": [
        "device = torch.device(\"cuda:0\" if torch.cuda.is_available() else \"cpu\")"
      ]
    },
    {
      "cell_type": "code",
      "execution_count": 60,
      "metadata": {
        "id": "bxQ8vZICKh9I"
      },
      "outputs": [],
      "source": [
        "def train_model(model, criterion, optimizer, scheduler, num_epochs=25):\n",
        "    losses = {'train':[], 'val':[]}\n",
        "    accuracies = {'train':[], 'val':[]}\n",
        "    every_n_epoch = 5\n",
        "\n",
        "    since = time.time()\n",
        "\n",
        "    best_model_wts = copy.deepcopy(model.state_dict())\n",
        "    best_acc = 0.0\n",
        "\n",
        "    for epoch in range(num_epochs):\n",
        "        print('Epoch {}/{}'.format(epoch, num_epochs - 1))\n",
        "        print('-' * 10)\n",
        "\n",
        "        # Each epoch has a training and validation phase\n",
        "        for phase in ['train', 'val']:\n",
        "            if phase == 'train':\n",
        "                model.train()  # Set model to training mode\n",
        "            else:\n",
        "                model.eval()   # Set model to evaluate mode\n",
        "\n",
        "            running_loss = 0.0\n",
        "            running_corrects = 0\n",
        "\n",
        "            # Iterate over data.\n",
        "            for inputs, labels in dataloaders[phase]:\n",
        "                # inputs = inputs.type(torch.DoubleTensor)\n",
        "                inputs = inputs.to(device)\n",
        "                labels = labels.to(device)\n",
        "\n",
        "                # zero the parameter gradients\n",
        "                optimizer.zero_grad()\n",
        "\n",
        "                # forward\n",
        "                # track history if only in train\n",
        "                with torch.set_grad_enabled(phase == 'train'):\n",
        "                    outputs = model(inputs.float())\n",
        "                    _, preds = torch.max(outputs, 1)\n",
        "                    loss = criterion(outputs, labels)\n",
        "\n",
        "                    # backward + optimize only if in training phase\n",
        "                    if phase == 'train':\n",
        "                        loss.backward()\n",
        "                        optimizer.step()\n",
        "\n",
        "                # statistics\n",
        "                running_loss += loss.item() * inputs.size(0)\n",
        "                running_corrects += torch.sum(preds == labels.data)\n",
        "            if phase == 'train':\n",
        "                scheduler.step()\n",
        "\n",
        "            epoch_loss = running_loss / dataset_sizes[phase]\n",
        "            epoch_acc = running_corrects.double() / dataset_sizes[phase]\n",
        "\n",
        "            print('{} Loss: {:.4f} Acc: {:.4f}'.format(\n",
        "                phase, epoch_loss, epoch_acc))\n",
        "            \n",
        "            if epoch%every_n_epoch == 0:\n",
        "              losses[phase] += [epoch_loss]\n",
        "              accuracies[phase] += [epoch_acc.cpu().detach().numpy()]\n",
        "\n",
        "            # deep copy the model\n",
        "            if phase == 'val' and epoch_acc > best_acc:\n",
        "                best_acc = epoch_acc\n",
        "                best_model_wts = copy.deepcopy(model.state_dict())\n",
        "\n",
        "        print()\n",
        "\n",
        "    time_elapsed = time.time() - since\n",
        "    print('Training complete in {:.0f}m {:.0f}s'.format(\n",
        "        time_elapsed // 60, time_elapsed % 60))\n",
        "    print('Best val Acc: {:4f}'.format(best_acc))\n",
        "\n",
        "    # load best model weights\n",
        "    model.load_state_dict(best_model_wts)\n",
        "    return model, losses, accuracies"
      ]
    },
    {
      "cell_type": "markdown",
      "metadata": {
        "id": "Ekd1XeXUKh9J"
      },
      "source": [
        "### Need to define our model below"
      ]
    },
    {
      "cell_type": "code",
      "execution_count": 55,
      "metadata": {
        "id": "GSarJtqLVftZ"
      },
      "outputs": [],
      "source": [
        "# image shape is (221, 339, 1)\n",
        "\n",
        "class CNN(nn.Module):\n",
        "  def __init__(self):\n",
        "    super().__init__()\n",
        "\n",
        "    self._convblocks = nn.Sequential(\n",
        "            nn.Conv2d(in_channels=1, out_channels=32, kernel_size=3, stride=1, padding=1),\n",
        "            nn.BatchNorm2d(32),\n",
        "            nn.ReLU(),\n",
        "            nn.MaxPool2d((3,3), (2,2)),\n",
        "\n",
        "            nn.Conv2d(in_channels=32, out_channels=64, kernel_size=3, stride=1, padding=1),\n",
        "            nn.BatchNorm2d(64),\n",
        "            nn.ReLU(),\n",
        "            nn.MaxPool2d((2,3), (2,2)),\n",
        "\n",
        "            nn.Conv2d(in_channels=64, out_channels=128, kernel_size=3, stride=1, padding=1),\n",
        "            nn.BatchNorm2d(128),\n",
        "            nn.ReLU(),\n",
        "            nn.MaxPool2d((5,6), (5,6)),\n",
        "\n",
        "            nn.Conv2d(in_channels=128, out_channels=256, kernel_size=3, stride=1, padding=1),\n",
        "            nn.BatchNorm2d(256),\n",
        "            nn.ReLU(),\n",
        "            nn.MaxPool2d((6,6), (5,4))\n",
        "        )\n",
        "    self._classifier = nn.Sequential(nn.Linear(in_features=1536, out_features=1024),\n",
        "                                      nn.ReLU(),\n",
        "                                      nn.Dropout(),\n",
        "                                      nn.Linear(in_features=1024, out_features=10))\n",
        "    # self._prob = nn.Softmax(dim=1)\n",
        "    self.apply(self._init_weights)\n",
        "\n",
        "  def forward(self, x):\n",
        "      x = self._convblocks(x)\n",
        "      x = x.view(x.size(0), -1)\n",
        "      # out = self._classifier(x)\n",
        "      # score = self._prob(out)\n",
        "      score = self._classifier(x)\n",
        "      return score\n",
        "\n",
        "  def _init_weights(self, layer) -> None:\n",
        "      if isinstance(layer, nn.Linear):\n",
        "        nn.init.xavier_uniform_(layer.weight)"
      ]
    },
    {
      "cell_type": "code",
      "execution_count": 62,
      "metadata": {
        "colab": {
          "base_uri": "https://localhost:8080/"
        },
        "id": "W7opS8QSuYfy",
        "outputId": "3d3c35d1-7d7a-4f4a-f044-9bec1c270167"
      },
      "outputs": [
        {
          "name": "stdout",
          "output_type": "stream",
          "text": [
            "# of trainable parameters: 1972938\n"
          ]
        }
      ],
      "source": [
        "model = CNN()\n",
        "print(\"# of trainable parameters:\",sum(p.numel() for p in model.parameters() if p.requires_grad))\n",
        "\n",
        "criterion = nn.CrossEntropyLoss()\n",
        "optimizer = optim.SGD(model.parameters(), lr=0.001, momentum=0.9)\n",
        "exp_lr_scheduler = lr_scheduler.StepLR(optimizer, step_size=7, gamma=0.1)"
      ]
    },
    {
      "cell_type": "code",
      "execution_count": null,
      "metadata": {
        "id": "Sr2kF6r41dFc"
      },
      "outputs": [],
      "source": [
        "torch.cuda.empty_cache() "
      ]
    },
    {
      "cell_type": "code",
      "execution_count": 63,
      "metadata": {
        "id": "Fksh1kxBlikR"
      },
      "outputs": [],
      "source": [
        "model = model.to(device)"
      ]
    },
    {
      "cell_type": "code",
      "execution_count": 64,
      "metadata": {
        "colab": {
          "base_uri": "https://localhost:8080/"
        },
        "id": "OKdH4WmavZ3e",
        "outputId": "b23625d5-4c7a-47f7-d1ec-4694fad65854"
      },
      "outputs": [
        {
          "name": "stdout",
          "output_type": "stream",
          "text": [
            "Epoch 0/24\n",
            "----------\n",
            "train Loss: 3.1925 Acc: 0.1927\n",
            "val Loss: 1.8521 Acc: 0.3800\n",
            "\n",
            "Epoch 1/24\n",
            "----------\n",
            "train Loss: 1.7712 Acc: 0.3717\n",
            "val Loss: 1.6047 Acc: 0.4000\n",
            "\n",
            "Epoch 2/24\n",
            "----------\n",
            "train Loss: 1.5501 Acc: 0.4293\n",
            "val Loss: 1.4116 Acc: 0.5000\n",
            "\n",
            "Epoch 3/24\n",
            "----------\n",
            "train Loss: 1.4320 Acc: 0.4919\n",
            "val Loss: 1.5803 Acc: 0.4100\n",
            "\n",
            "Epoch 4/24\n",
            "----------\n",
            "train Loss: 1.3621 Acc: 0.5056\n",
            "val Loss: 1.3507 Acc: 0.4900\n",
            "\n",
            "Epoch 5/24\n",
            "----------\n",
            "train Loss: 1.2371 Acc: 0.5645\n",
            "val Loss: 1.2428 Acc: 0.5600\n",
            "\n",
            "Epoch 6/24\n",
            "----------\n",
            "train Loss: 1.1536 Acc: 0.5945\n",
            "val Loss: 1.3421 Acc: 0.5500\n",
            "\n",
            "Epoch 7/24\n",
            "----------\n",
            "train Loss: 1.0323 Acc: 0.6458\n",
            "val Loss: 1.0350 Acc: 0.6600\n",
            "\n",
            "Epoch 8/24\n",
            "----------\n",
            "train Loss: 0.9514 Acc: 0.6934\n",
            "val Loss: 1.0424 Acc: 0.6400\n",
            "\n",
            "Epoch 9/24\n",
            "----------\n",
            "train Loss: 0.9732 Acc: 0.6871\n",
            "val Loss: 1.0319 Acc: 0.6500\n",
            "\n",
            "Epoch 10/24\n",
            "----------\n",
            "train Loss: 0.9269 Acc: 0.6921\n",
            "val Loss: 1.0072 Acc: 0.6600\n",
            "\n",
            "Epoch 11/24\n",
            "----------\n",
            "train Loss: 0.8704 Acc: 0.7134\n",
            "val Loss: 1.0375 Acc: 0.6300\n",
            "\n",
            "Epoch 12/24\n",
            "----------\n",
            "train Loss: 0.8584 Acc: 0.7159\n",
            "val Loss: 1.0191 Acc: 0.6700\n",
            "\n",
            "Epoch 13/24\n",
            "----------\n",
            "train Loss: 0.8296 Acc: 0.7309\n",
            "val Loss: 1.0029 Acc: 0.6600\n",
            "\n",
            "Epoch 14/24\n",
            "----------\n",
            "train Loss: 0.8425 Acc: 0.7209\n",
            "val Loss: 0.9850 Acc: 0.6700\n",
            "\n",
            "Epoch 15/24\n",
            "----------\n",
            "train Loss: 0.8284 Acc: 0.7234\n",
            "val Loss: 0.9926 Acc: 0.6700\n",
            "\n",
            "Epoch 16/24\n",
            "----------\n",
            "train Loss: 0.8531 Acc: 0.7159\n",
            "val Loss: 1.0015 Acc: 0.6500\n",
            "\n",
            "Epoch 17/24\n",
            "----------\n",
            "train Loss: 0.8133 Acc: 0.7472\n",
            "val Loss: 0.9918 Acc: 0.6600\n",
            "\n",
            "Epoch 18/24\n",
            "----------\n",
            "train Loss: 0.8145 Acc: 0.7572\n",
            "val Loss: 0.9793 Acc: 0.6700\n",
            "\n",
            "Epoch 19/24\n",
            "----------\n",
            "train Loss: 0.8040 Acc: 0.7397\n",
            "val Loss: 0.9746 Acc: 0.6800\n",
            "\n",
            "Epoch 20/24\n",
            "----------\n",
            "train Loss: 0.8010 Acc: 0.7447\n",
            "val Loss: 0.9946 Acc: 0.6400\n",
            "\n",
            "Epoch 21/24\n",
            "----------\n",
            "train Loss: 0.8006 Acc: 0.7547\n",
            "val Loss: 0.9738 Acc: 0.6600\n",
            "\n",
            "Epoch 22/24\n",
            "----------\n",
            "train Loss: 0.8106 Acc: 0.7497\n",
            "val Loss: 0.9886 Acc: 0.6700\n",
            "\n",
            "Epoch 23/24\n",
            "----------\n",
            "train Loss: 0.7658 Acc: 0.7509\n",
            "val Loss: 0.9812 Acc: 0.6800\n",
            "\n",
            "Epoch 24/24\n",
            "----------\n",
            "train Loss: 0.7941 Acc: 0.7422\n",
            "val Loss: 0.9853 Acc: 0.6800\n",
            "\n",
            "Training complete in 4m 17s\n",
            "Best val Acc: 0.680000\n"
          ]
        }
      ],
      "source": [
        "model, losses, accuracies = train_model(model, criterion, optimizer, exp_lr_scheduler)"
      ]
    },
    {
      "cell_type": "code",
      "execution_count": 87,
      "metadata": {
        "colab": {
          "base_uri": "https://localhost:8080/",
          "height": 541
        },
        "id": "GKgYTrqVhDQd",
        "outputId": "24aee7b9-cf2f-4591-a970-768acf5b7c7e"
      },
      "outputs": [
        {
          "data": {
            "image/png": "[encoded data removed]",
            "text/plain": [
              "<Figure size 432x288 with 1 Axes>"
            ]
          },
          "metadata": {
            "needs_background": "light"
          },
          "output_type": "display_data"
        },
        {
          "data": {
            "image/png": "[encoded data removed]",
            "text/plain": [
              "<Figure size 432x288 with 1 Axes>"
            ]
          },
          "metadata": {
            "needs_background": "light"
          },
          "output_type": "display_data"
        }
      ],
      "source": [
        "def plot_performance(metric, values):\n",
        "  plt.plot(values['train'])\n",
        "  plt.plot(values['val'])\n",
        "  plt.xlabel(\"epochs\")\n",
        "  plt.ylabel(metric)\n",
        "  plt.legend(values.keys())\n",
        "  plt.show()\n",
        "\n",
        "plot_performance('accuracy', accuracies)\n",
        "plot_performance('loss', losses)"
      ]
    },
    {
      "cell_type": "code",
      "execution_count": null,
      "metadata": {
        "id": "DzpzBJ-Iw3x1"
      },
      "outputs": [],
      "source": [
        "torch.save(model.state_dict(),\"weights.pth\")"
      ]
    },
    {
      "cell_type": "code",
      "execution_count": 68,
      "metadata": {
        "id": "hV7FKfz3Kh9L"
      },
      "outputs": [],
      "source": [
        "def test_model(model, criterion, optimizer, scheduler):\n",
        "\n",
        "    model.eval()   # Set model to evaluate mode\n",
        "\n",
        "    t_output = []\n",
        "    t_pred = []\n",
        "    y_test = []\n",
        "    top_k = []\n",
        "    # Iterate over data.\n",
        "    i = 1\n",
        "    for inputs, labels in dataloaders['test']:\n",
        "        \n",
        "        inputs = inputs.to(device)\n",
        "        labels = labels.to(device)\n",
        "        y_test.append(labels)\n",
        "\n",
        "        # zero the parameter gradients\n",
        "        optimizer.zero_grad()\n",
        "\n",
        "        # forward\n",
        "        # track history if only in train\n",
        "        with torch.set_grad_enabled(True):\n",
        "            outputs = model(inputs.float())\n",
        "            _, preds = torch.max(outputs, 1)\n",
        "            loss = criterion(outputs, labels)\n",
        "            t_output.append(outputs)\n",
        "            t_pred.append(preds)\n",
        "            temp1, temp2 = outputs.topk(5)\n",
        "            top_k.append(temp2)\n",
        "\n",
        "    y_test = torch.cat(y_test).cpu().detach().numpy() \n",
        "    y_test_num = torch.cat(t_pred).cpu().detach().numpy() \n",
        "    y_pred = torch.cat(top_k).cpu().detach().numpy() \n",
        "\n",
        "    print('\\nConfusion Matrix')\n",
        "    conf_mt = confusion_matrix(y_test_num, y_test)\n",
        "    print(conf_mt)\n",
        "    plt.matshow(conf_mt)\n",
        "    plt.show()\n",
        "    print('\\nClassification Report')\n",
        "    print(classification_report(y_test_num, y_test, zero_division=0))"
      ]
    },
    {
      "cell_type": "code",
      "execution_count": 69,
      "metadata": {
        "id": "s5DtNSQ8ggFO"
      },
      "outputs": [],
      "source": [
        "torch.cuda.empty_cache() "
      ]
    },
    {
      "cell_type": "code",
      "execution_count": 70,
      "metadata": {
        "colab": {
          "base_uri": "https://localhost:8080/",
          "height": 836
        },
        "id": "qvsilg2DKh9M",
        "outputId": "37840ba4-4d1d-426a-a378-9c506db8b6bd"
      },
      "outputs": [
        {
          "name": "stdout",
          "output_type": "stream",
          "text": [
            "\n",
            "Confusion Matrix\n",
            "[[7 0 1 0 0 0 0 0 0 0]\n",
            " [0 7 1 0 0 0 0 0 0 0]\n",
            " [0 0 6 0 1 0 0 0 0 0]\n",
            " [0 0 0 6 0 2 3 1 0 1]\n",
            " [0 0 0 0 6 0 0 1 0 0]\n",
            " [0 0 0 1 0 8 1 0 1 0]\n",
            " [0 0 1 2 1 0 6 0 1 1]\n",
            " [2 0 1 0 1 0 0 7 1 0]\n",
            " [1 3 0 0 1 0 0 0 7 0]\n",
            " [0 0 0 1 0 0 0 1 0 8]]\n"
          ]
        },
        {
          "data": {
            "image/png": "[encoded data removed]",
            "text/plain": [
              "<Figure size 288x288 with 1 Axes>"
            ]
          },
          "metadata": {
            "needs_background": "light"
          },
          "output_type": "display_data"
        },
        {
          "name": "stdout",
          "output_type": "stream",
          "text": [
            "\n",
            "Classification Report\n",
            "              precision    recall  f1-score   support\n",
            "\n",
            "           0       0.70      0.88      0.78         8\n",
            "           1       0.70      0.88      0.78         8\n",
            "           2       0.60      0.86      0.71         7\n",
            "           3       0.60      0.46      0.52        13\n",
            "           4       0.60      0.86      0.71         7\n",
            "           5       0.80      0.73      0.76        11\n",
            "           6       0.60      0.50      0.55        12\n",
            "           7       0.70      0.58      0.64        12\n",
            "           8       0.70      0.58      0.64        12\n",
            "           9       0.80      0.80      0.80        10\n",
            "\n",
            "    accuracy                           0.68       100\n",
            "   macro avg       0.68      0.71      0.69       100\n",
            "weighted avg       0.68      0.68      0.67       100\n",
            "\n"
          ]
        }
      ],
      "source": [
        "test_model(model, criterion, optimizer, exp_lr_scheduler)"
      ]
    },
    {
      "cell_type": "code",
      "execution_count": 89,
      "metadata": {
        "colab": {
          "base_uri": "https://localhost:8080/"
        },
        "id": "6rq8Jm1_xta6",
        "outputId": "96012a28-b0c6-45ca-8836-decf724ec541"
      },
      "outputs": [
        {
          "name": "stdout",
          "output_type": "stream",
          "text": [
            "1.10.0+cu111\n"
          ]
        }
      ],
      "source": [
        "print(torch.__version__)"
      ]
    }
  ],
  "metadata": {
    "accelerator": "GPU",
    "colab": {
      "collapsed_sections": [],
      "name": "deep_learning_cnn.ipynb",
      "provenance": []
    },
    "kernelspec": {
      "display_name": "Python 3",
      "language": "python",
      "name": "python3"
    },
    "language_info": {
      "codemirror_mode": {
        "name": "ipython",
        "version": 3
      },
      "file_extension": ".py",
      "mimetype": "text/x-python",
      "name": "python",
      "nbconvert_exporter": "python",
      "pygments_lexer": "ipython3",
      "version": "3.7.6"
    }
  },
  "nbformat": 4,
  "nbformat_minor": 0
}
