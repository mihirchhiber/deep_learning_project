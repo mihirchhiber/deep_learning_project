{
  "cells": [
    {
      "cell_type": "code",
      "execution_count": 1,
      "metadata": {
        "id": "-1Fk6lZ6Kh89"
      },
      "outputs": [],
      "source": [
        "import numpy as np \n",
        "import pandas as pd \n",
        "from sklearn.model_selection import train_test_split\n",
        "from torch.utils.data import Dataset, DataLoader\n",
        "import torch\n",
        "import torch.nn as nn\n",
        "import torch.optim as optim\n",
        "from torch.optim import lr_scheduler\n",
        "from torchvision import datasets, models, transforms\n",
        "import time\n",
        "import copy\n",
        "import cv2\n",
        "from sklearn.metrics import roc_curve, auc, roc_auc_score, classification_report, confusion_matrix\n",
        "import matplotlib.pyplot as plt"
      ]
    },
    {
      "cell_type": "code",
      "execution_count": 2,
      "metadata": {
        "colab": {
          "base_uri": "https://localhost:8080/"
        },
        "id": "QY1JiOV419TG",
        "outputId": "9b8bba47-9029-4d8d-e05f-49777481b33b"
      },
      "outputs": [
        {
          "data": {
            "text/plain": [
              "<torch._C.Generator at 0x7f3530f66cf0>"
            ]
          },
          "execution_count": 2,
          "metadata": {},
          "output_type": "execute_result"
        }
      ],
      "source": [
        "torch.manual_seed(0)"
      ]
    },
    {
      "cell_type": "code",
      "execution_count": 3,
      "metadata": {
        "colab": {
          "base_uri": "https://localhost:8080/"
        },
        "id": "UqCF2XG0Kv6r",
        "outputId": "d756c749-6664-4d67-8480-48b1fb7f28f7"
      },
      "outputs": [
        {
          "name": "stdout",
          "output_type": "stream",
          "text": [
            "Drive already mounted at /content/drive; to attempt to forcibly remount, call drive.mount(\"/content/drive\", force_remount=True).\n",
            "Archive:  drive/MyDrive/Data_new.zip\n",
            "replace Data_new/images_original/blues/blues00000.png? [y]es, [n]o, [A]ll, [N]one, [r]ename: "
          ]
        }
      ],
      "source": [
        "from google.colab import drive\n",
        "drive.mount('/content/drive')\n",
        "\n",
        "!unzip drive/MyDrive/Data_new.zip\n",
        "\n",
        "drive.flush_and_unmount()"
      ]
    },
    {
      "cell_type": "code",
      "execution_count": 3,
      "metadata": {
        "id": "RmPDCUlaKh9B"
      },
      "outputs": [],
      "source": [
        "# df = pd.read_csv(\"Data/features_30_sec.csv\")\n",
        "df = pd.read_csv(\"features_30_sec.csv\")\n",
        "df = df[['filename','label']]"
      ]
    },
    {
      "cell_type": "code",
      "execution_count": 4,
      "metadata": {
        "colab": {
          "base_uri": "https://localhost:8080/"
        },
        "id": "fvr7gltG2J3P",
        "outputId": "0a89615d-d08c-48f6-b3ae-4a04c53dcf8f"
      },
      "outputs": [
        {
          "data": {
            "text/plain": [
              "0        0\n",
              "1        1\n",
              "2        2\n",
              "3        3\n",
              "4        4\n",
              "      ... \n",
              "994    994\n",
              "995    995\n",
              "996    996\n",
              "997    997\n",
              "998    998\n",
              "Name: index, Length: 999, dtype: int64"
            ]
          },
          "execution_count": 4,
          "metadata": {},
          "output_type": "execute_result"
        }
      ],
      "source": [
        "df = df[df['filename'] != \"jazz.00054.wav\"]\n",
        "df = df.reset_index()\n",
        "df.pop('index')"
      ]
    },
    {
      "cell_type": "code",
      "execution_count": 5,
      "metadata": {
        "id": "FW9HyigAKh9C"
      },
      "outputs": [],
      "source": [
        "class_name = {}\n",
        "n = 0\n",
        "for i in df['label'].unique():\n",
        "    class_name[i] = n\n",
        "    n+=1\n",
        "num_classes = n"
      ]
    },
    {
      "cell_type": "code",
      "execution_count": 6,
      "metadata": {
        "id": "u0l10ILxKh9D"
      },
      "outputs": [],
      "source": [
        "df['label'] = df['label'].map(class_name)"
      ]
    },
    {
      "cell_type": "code",
      "execution_count": 7,
      "metadata": {
        "colab": {
          "base_uri": "https://localhost:8080/"
        },
        "id": "RpUgwjeuKh9D",
        "outputId": "9a650d42-a273-4570-cc4d-5028454ec427"
      },
      "outputs": [
        {
          "name": "stderr",
          "output_type": "stream",
          "text": [
            "/usr/local/lib/python3.7/dist-packages/ipykernel_launcher.py:3: SettingWithCopyWarning: \n",
            "A value is trying to be set on a copy of a slice from a DataFrame\n",
            "\n",
            "See the caveats in the documentation: https://pandas.pydata.org/pandas-docs/stable/user_guide/indexing.html#returning-a-view-versus-a-copy\n",
            "  This is separate from the ipykernel package so we can avoid doing imports until\n"
          ]
        }
      ],
      "source": [
        "for i in range(len(df)):\n",
        "    temp = df['filename'][i].split(\".\")\n",
        "    df['filename'][i] = \"Data_new/images_original/\" + temp[0] + \"/\" + temp[0] + temp[1] + \".png\""
      ]
    },
    {
      "cell_type": "code",
      "execution_count": 8,
      "metadata": {
        "id": "kfIneofqKh9E"
      },
      "outputs": [],
      "source": [
        "train, test = train_test_split(df, test_size=0.20, random_state=42, stratify = df['label'])\n",
        "test, val = train_test_split(test, test_size=0.50, random_state=42, stratify = test['label'])"
      ]
    },
    {
      "cell_type": "code",
      "execution_count": 9,
      "metadata": {
        "colab": {
          "base_uri": "https://localhost:8080/"
        },
        "id": "7znxIKdHd7FA",
        "outputId": "3120fe85-ac23-4dca-d4f0-e33293f7f194"
      },
      "outputs": [
        {
          "name": "stdout",
          "output_type": "stream",
          "text": [
            "[21, 23, 52, 57, 59, 63, 74, 82, 86, 90, 104, 111, 122, 132, 133, 134, 140, 143, 164, 171, 210, 215, 218, 223, 252, 254, 255, 267, 269, 289, 303, 307, 318, 321, 326, 347, 360, 363, 368, 385, 400, 408, 411, 412, 451, 457, 482, 488, 492, 498, 522, 523, 533, 535, 557, 572, 573, 574, 589, 590, 599, 601, 611, 637, 643, 656, 665, 670, 688, 697, 699, 709, 725, 731, 747, 753, 763, 784, 795, 798, 806, 814, 823, 825, 848, 853, 859, 865, 873, 893, 904, 919, 922, 924, 951, 953, 957, 962, 968, 994]\n"
          ]
        }
      ],
      "source": [
        "print(sorted(list(test.index)))"
      ]
    },
    {
      "cell_type": "code",
      "execution_count": 10,
      "metadata": {
        "colab": {
          "base_uri": "https://localhost:8080/"
        },
        "id": "9IjocTzLKh9F",
        "outputId": "22d5decd-c57f-49dc-fd09-097d1a4b1179"
      },
      "outputs": [
        {
          "name": "stdout",
          "output_type": "stream",
          "text": [
            "{'train': 799, 'test': 100, 'val': 100}\n"
          ]
        }
      ],
      "source": [
        "dataset_sizes = {'train': len(train), 'test': len(test), 'val': len(val)}\n",
        "print(dataset_sizes)"
      ]
    },
    {
      "cell_type": "code",
      "execution_count": 11,
      "metadata": {
        "id": "MmZfgB66Kh9F"
      },
      "outputs": [],
      "source": [
        "class GenreDataset(Dataset):\n",
        "    \"\"\"Genre dataset.\"\"\"\n",
        "\n",
        "    def __init__(self, csv_file, transform=None):\n",
        "        \"\"\"\n",
        "        Args:\n",
        "            csv_file (string): Path to the csv file with annotations.\n",
        "            transform (callable, optional): Optional transform to be applied\n",
        "                on a sample.\n",
        "        \"\"\"\n",
        "        self.csv = csv_file\n",
        "        self.transform = transform\n",
        "\n",
        "    def __len__(self):\n",
        "        return len(self.csv)\n",
        "\n",
        "    def __getitem__(self, idx):\n",
        "        if torch.is_tensor(idx):\n",
        "            idx = idx.tolist()\n",
        "\n",
        "        img_name = self.csv.iloc[idx, 0]\n",
        "        image = cv2.imread(img_name,cv2.IMREAD_COLOR)\n",
        "        image = cv2.cvtColor(image, cv2.COLOR_BGR2GRAY)\n",
        "        image = np.expand_dims(image, axis=-1)\n",
        "        details = self.csv.iloc[idx, 1:]\n",
        "        sample = {'image': image, 'label': details[0]}\n",
        "\n",
        "        if self.transform:\n",
        "            sample = self.transform(sample)\n",
        "\n",
        "        return sample"
      ]
    },
    {
      "cell_type": "code",
      "execution_count": 12,
      "metadata": {
        "id": "apqhzUBRKh9G"
      },
      "outputs": [],
      "source": [
        "class PreProcessing(object):\n",
        "\n",
        "    def __init__(self):\n",
        "        pass\n",
        "\n",
        "    def __call__(self, sample):\n",
        "        image, turtle_id = sample['image'], sample['label']\n",
        "        h, w = image.shape[:2]\n",
        "        \n",
        "        ### ADD PREPROCESSING CODE HERE\n",
        "        \n",
        "        return [torch.Tensor(image.transpose(2,0,1)), turtle_id]"
      ]
    },
    {
      "cell_type": "code",
      "execution_count": 13,
      "metadata": {
        "id": "3Tnnx_S3Kh9H"
      },
      "outputs": [],
      "source": [
        "train_transformed_dataset = GenreDataset(csv_file=train,\n",
        "                                               transform=transforms.Compose([\n",
        "                                               PreProcessing()\n",
        "                                           ]))\n",
        "test_transformed_dataset = GenreDataset(csv_file=test,\n",
        "                                               transform=transforms.Compose([\n",
        "                                               PreProcessing()\n",
        "                                           ]))\n",
        "val_transformed_dataset = GenreDataset(csv_file=val,\n",
        "                                               transform=transforms.Compose([\n",
        "                                               PreProcessing()\n",
        "                                           ]))"
      ]
    },
    {
      "cell_type": "code",
      "execution_count": 14,
      "metadata": {
        "id": "-mCMdPlEKh9H"
      },
      "outputs": [],
      "source": [
        "dataloaders = {'train' : DataLoader(train_transformed_dataset, batch_size=16,\n",
        "                        shuffle=True, num_workers=0),\n",
        "              'test' : DataLoader(test_transformed_dataset, batch_size=8,\n",
        "                        shuffle=True, num_workers=0),\n",
        "              'val' : DataLoader(val_transformed_dataset, batch_size=16,\n",
        "                        shuffle=True, num_workers=0)}"
      ]
    },
    {
      "cell_type": "code",
      "execution_count": 15,
      "metadata": {
        "id": "CIgT8qDoKh9I"
      },
      "outputs": [],
      "source": [
        "device = torch.device(\"cuda:0\" if torch.cuda.is_available() else \"cpu\")"
      ]
    },
    {
      "cell_type": "code",
      "execution_count": 16,
      "metadata": {
        "id": "bxQ8vZICKh9I"
      },
      "outputs": [],
      "source": [
        "def train_model(model, criterion, optimizer, scheduler, num_epochs=25, patience=5):\n",
        "    losses = {'train':[], 'val':[]}\n",
        "    accuracies = {'train':[], 'val':[]}\n",
        "\n",
        "    since = time.time()\n",
        "\n",
        "    best_model_wts = copy.deepcopy(model.state_dict())\n",
        "    best_acc = 0.0\n",
        "    stop_trigger = 0\n",
        "\n",
        "    for epoch in range(num_epochs):\n",
        "        print('Epoch {}/{}'.format(epoch, num_epochs - 1))\n",
        "        print('-' * 10)\n",
        "\n",
        "        # Each epoch has a training and validation phase\n",
        "        for phase in ['train', 'val']:\n",
        "            if phase == 'train':\n",
        "                model.train()  # Set model to training mode\n",
        "            else:\n",
        "                model.eval()   # Set model to evaluate mode\n",
        "\n",
        "            running_loss = 0.0\n",
        "            running_corrects = 0\n",
        "\n",
        "            # Iterate over data.\n",
        "            for inputs, labels in dataloaders[phase]:\n",
        "                # inputs = inputs.type(torch.DoubleTensor)\n",
        "                inputs = inputs.to(device)\n",
        "                labels = labels.to(device)\n",
        "\n",
        "                # zero the parameter gradients\n",
        "                optimizer.zero_grad()\n",
        "\n",
        "                # forward\n",
        "                # track history if only in train\n",
        "                with torch.set_grad_enabled(phase == 'train'):\n",
        "                    outputs = model(inputs.float())\n",
        "                    _, preds = torch.max(outputs, 1)\n",
        "                    loss = criterion(outputs, labels)\n",
        "\n",
        "                    # backward + optimize only if in training phase\n",
        "                    if phase == 'train':\n",
        "                        loss.backward()\n",
        "                        optimizer.step()\n",
        "\n",
        "                # statistics\n",
        "                running_loss += loss.item() * inputs.size(0)\n",
        "                running_corrects += torch.sum(preds == labels.data)\n",
        "            if phase == 'train':\n",
        "                scheduler.step()\n",
        "\n",
        "            epoch_loss = running_loss / dataset_sizes[phase]\n",
        "            epoch_acc = running_corrects.double() / dataset_sizes[phase]\n",
        "\n",
        "            print('{} Loss: {:.4f} Acc: {:.4f}'.format(\n",
        "                phase, epoch_loss, epoch_acc))\n",
        "          \n",
        "          \n",
        "            losses[phase] += [epoch_loss]\n",
        "            accuracies[phase] += [epoch_acc.cpu().detach().numpy()]\n",
        "\n",
        "            # deep copy the model\n",
        "            if phase == 'val' and epoch_acc >= best_acc:\n",
        "              best_acc = epoch_acc\n",
        "              best_model_wts = copy.deepcopy(model.state_dict())\n",
        "              stop_trigger = 0 # Reset count\n",
        "\n",
        "            elif phase == 'val' and epoch_acc < best_acc:\n",
        "              stop_trigger += 1\n",
        "              print(\"Triggered! --> \", stop_trigger , \"/\", patience)\n",
        "        \n",
        "        if stop_trigger == patience:\n",
        "            print(\"Early Stopped!!!\")\n",
        "            break\n",
        "\n",
        "        print()\n",
        "\n",
        "    time_elapsed = time.time() - since\n",
        "    print('Training complete in {:.0f}m {:.0f}s'.format(\n",
        "        time_elapsed // 60, time_elapsed % 60))\n",
        "    print('Best val Acc: {:4f}'.format(best_acc))\n",
        "\n",
        "    # save model weights\n",
        "    torch.save(best_model_wts,\"weights_best.pth\") # Best val acc\n",
        "    torch.save(model.state_dict(), \"weights_last.pth\") # Last epoch\n",
        "\n",
        "    # load best model weights\n",
        "    model.load_state_dict(best_model_wts)\n",
        "    return model, losses, accuracies"
      ]
    },
    {
      "cell_type": "markdown",
      "metadata": {
        "id": "Ekd1XeXUKh9J"
      },
      "source": [
        "### Model"
      ]
    },
    {
      "cell_type": "code",
      "execution_count": 27,
      "metadata": {
        "id": "_ItjtmlSI0IC"
      },
      "outputs": [],
      "source": [
        "# image shape is (219, 338, 1)\n",
        "\n",
        "class CustomCNN(nn.Module):\n",
        "  def __init__(self):\n",
        "    super().__init__()\n",
        "    self.embed = nn.Sequential(\n",
        "        self.conv3x3(1, 16),\n",
        "        nn.MaxPool2d((3,3), (2,2)),\n",
        "\n",
        "        self.conv3x3(16, 32),\n",
        "        nn.MaxPool2d((2,3), (2,2)),\n",
        "\n",
        "        self.conv3x3(32, 64),\n",
        "        nn.MaxPool2d((5,6), (5,6)),\n",
        "\n",
        "        self.conv3x3(64, 128),\n",
        "        nn.MaxPool2d((6,6), (5,4)),\n",
        "\n",
        "        nn.Flatten(),\n",
        "        nn.Linear(2*128, 128),\n",
        "        nn.ReLU()\n",
        "        )\n",
        "\n",
        "    self.classify = nn.Sequential(\n",
        "        nn.Dropout(0.5),\n",
        "        nn.Linear(128, 10)\n",
        "        )\n",
        "\n",
        "    self.apply(self._init_weights)\n",
        "\n",
        "  def conv3x3(self, in_channels, out_channels):\n",
        "    return nn.Sequential(\n",
        "        nn.Conv2d(in_channels, out_channels, kernel_size=3, stride=1, padding=1),\n",
        "        nn.BatchNorm2d(out_channels),\n",
        "        nn.ReLU()\n",
        "        ) \n",
        "\n",
        "  def forward(self, input):\n",
        "    embedding = self.embed(input)\n",
        "    output = self.classify(embedding)\n",
        "    return output\n",
        "\n",
        "  def _init_weights(self, layer):\n",
        "    if isinstance(layer, (nn.Linear, nn.Conv2d)):\n",
        "      nn.init.kaiming_normal_(layer.weight, nonlinearity='relu')"
      ]
    },
    {
      "cell_type": "code",
      "execution_count": 49,
      "metadata": {
        "colab": {
          "base_uri": "https://localhost:8080/"
        },
        "id": "W7opS8QSuYfy",
        "outputId": "d02381c5-f556-4e2a-f4ab-f21a80e8dc12"
      },
      "outputs": [
        {
          "name": "stdout",
          "output_type": "stream",
          "text": [
            "# of trainable parameters: 131818\n"
          ]
        }
      ],
      "source": [
        "model = CustomCNN()\n",
        "print(\"# of trainable parameters:\",sum(p.numel() for p in model.parameters() if p.requires_grad))\n",
        "\n",
        "criterion = nn.CrossEntropyLoss()\n",
        "optimizer = optim.Adam(model.parameters(), lr=0.001)\n",
        "exp_lr_scheduler = lr_scheduler.StepLR(optimizer, step_size=7, gamma=0.1)"
      ]
    },
    {
      "cell_type": "code",
      "execution_count": 50,
      "metadata": {
        "id": "Sr2kF6r41dFc"
      },
      "outputs": [],
      "source": [
        "torch.cuda.empty_cache() \n",
        "model = model.to(device)"
      ]
    },
    {
      "cell_type": "code",
      "execution_count": 51,
      "metadata": {
        "colab": {
          "base_uri": "https://localhost:8080/"
        },
        "id": "OKdH4WmavZ3e",
        "outputId": "fc6ee011-f5fd-4207-83a3-caa94cfd2d7f"
      },
      "outputs": [
        {
          "name": "stdout",
          "output_type": "stream",
          "text": [
            "Epoch 0/24\n",
            "----------\n",
            "train Loss: 2.5601 Acc: 0.2265\n",
            "val Loss: 1.8945 Acc: 0.3900\n",
            "\n",
            "Epoch 1/24\n",
            "----------\n",
            "train Loss: 1.8119 Acc: 0.3605\n",
            "val Loss: 1.5657 Acc: 0.4600\n",
            "\n",
            "Epoch 2/24\n",
            "----------\n",
            "train Loss: 1.6279 Acc: 0.4118\n",
            "val Loss: 1.4396 Acc: 0.5100\n",
            "\n",
            "Epoch 3/24\n",
            "----------\n",
            "train Loss: 1.5732 Acc: 0.4568\n",
            "val Loss: 1.3634 Acc: 0.5400\n",
            "\n",
            "Epoch 4/24\n",
            "----------\n",
            "train Loss: 1.3978 Acc: 0.5081\n",
            "val Loss: 1.2690 Acc: 0.5900\n",
            "\n",
            "Epoch 5/24\n",
            "----------\n",
            "train Loss: 1.3808 Acc: 0.4894\n",
            "val Loss: 1.2162 Acc: 0.6000\n",
            "\n",
            "Epoch 6/24\n",
            "----------\n",
            "train Loss: 1.2500 Acc: 0.5482\n",
            "val Loss: 1.1082 Acc: 0.6400\n",
            "\n",
            "Epoch 7/24\n",
            "----------\n",
            "train Loss: 1.1462 Acc: 0.6033\n",
            "val Loss: 1.0877 Acc: 0.6900\n",
            "\n",
            "Epoch 8/24\n",
            "----------\n",
            "train Loss: 1.0500 Acc: 0.6320\n",
            "val Loss: 1.0619 Acc: 0.6700\n",
            "Triggered! -->  1 / 25\n",
            "\n",
            "Epoch 9/24\n",
            "----------\n",
            "train Loss: 1.0490 Acc: 0.6270\n",
            "val Loss: 1.0672 Acc: 0.6500\n",
            "Triggered! -->  2 / 25\n",
            "\n",
            "Epoch 10/24\n",
            "----------\n",
            "train Loss: 1.0252 Acc: 0.6546\n",
            "val Loss: 1.0695 Acc: 0.6400\n",
            "Triggered! -->  3 / 25\n",
            "\n",
            "Epoch 11/24\n",
            "----------\n",
            "train Loss: 0.9803 Acc: 0.6546\n",
            "val Loss: 1.0454 Acc: 0.6600\n",
            "Triggered! -->  4 / 25\n",
            "\n",
            "Epoch 12/24\n",
            "----------\n",
            "train Loss: 0.9663 Acc: 0.6671\n",
            "val Loss: 1.0405 Acc: 0.6700\n",
            "Triggered! -->  5 / 25\n",
            "\n",
            "Epoch 13/24\n",
            "----------\n",
            "train Loss: 0.9553 Acc: 0.6934\n",
            "val Loss: 1.0420 Acc: 0.6600\n",
            "Triggered! -->  6 / 25\n",
            "\n",
            "Epoch 14/24\n",
            "----------\n",
            "train Loss: 0.8884 Acc: 0.7084\n",
            "val Loss: 1.0373 Acc: 0.6700\n",
            "Triggered! -->  7 / 25\n",
            "\n",
            "Epoch 15/24\n",
            "----------\n",
            "train Loss: 0.9393 Acc: 0.6796\n",
            "val Loss: 1.0397 Acc: 0.6600\n",
            "Triggered! -->  8 / 25\n",
            "\n",
            "Epoch 16/24\n",
            "----------\n",
            "train Loss: 0.9365 Acc: 0.6896\n",
            "val Loss: 1.0401 Acc: 0.6900\n",
            "\n",
            "Epoch 17/24\n",
            "----------\n",
            "train Loss: 0.9417 Acc: 0.6834\n",
            "val Loss: 1.0417 Acc: 0.6700\n",
            "Triggered! -->  1 / 25\n",
            "\n",
            "Epoch 18/24\n",
            "----------\n",
            "train Loss: 0.9310 Acc: 0.6746\n",
            "val Loss: 1.0384 Acc: 0.6700\n",
            "Triggered! -->  2 / 25\n",
            "\n",
            "Epoch 19/24\n",
            "----------\n",
            "train Loss: 0.9017 Acc: 0.6859\n",
            "val Loss: 1.0327 Acc: 0.6700\n",
            "Triggered! -->  3 / 25\n",
            "\n",
            "Epoch 20/24\n",
            "----------\n",
            "train Loss: 0.9010 Acc: 0.6934\n",
            "val Loss: 1.0335 Acc: 0.6700\n",
            "Triggered! -->  4 / 25\n",
            "\n",
            "Epoch 21/24\n",
            "----------\n",
            "train Loss: 0.9171 Acc: 0.6671\n",
            "val Loss: 1.0333 Acc: 0.6700\n",
            "Triggered! -->  5 / 25\n",
            "\n",
            "Epoch 22/24\n",
            "----------\n",
            "train Loss: 0.9172 Acc: 0.6708\n",
            "val Loss: 1.0374 Acc: 0.6500\n",
            "Triggered! -->  6 / 25\n",
            "\n",
            "Epoch 23/24\n",
            "----------\n",
            "train Loss: 0.8869 Acc: 0.6996\n",
            "val Loss: 1.0349 Acc: 0.6800\n",
            "Triggered! -->  7 / 25\n",
            "\n",
            "Epoch 24/24\n",
            "----------\n",
            "train Loss: 0.9229 Acc: 0.7009\n",
            "val Loss: 1.0332 Acc: 0.6600\n",
            "Triggered! -->  8 / 25\n",
            "\n",
            "Training complete in 1m 57s\n",
            "Best val Acc: 0.690000\n"
          ]
        }
      ],
      "source": [
        "model, losses, accuracies = train_model(model, criterion, optimizer, exp_lr_scheduler, num_epochs=25, patience=25)"
      ]
    },
    {
      "cell_type": "code",
      "execution_count": 52,
      "metadata": {
        "colab": {
          "base_uri": "https://localhost:8080/",
          "height": 541
        },
        "id": "GKgYTrqVhDQd",
        "outputId": "9dd8e625-76a8-4ff0-901c-b4a7d351e0ca"
      },
      "outputs": [
        {
          "data": {
            "image/png": "[encoded data removed]",
            "text/plain": [
              "<Figure size 432x288 with 1 Axes>"
            ]
          },
          "metadata": {
            "needs_background": "light"
          },
          "output_type": "display_data"
        },
        {
          "data": {
            "image/png": "[encoded data removed]",
            "text/plain": [
              "<Figure size 432x288 with 1 Axes>"
            ]
          },
          "metadata": {
            "needs_background": "light"
          },
          "output_type": "display_data"
        }
      ],
      "source": [
        "def plot_performance(metric, values):\n",
        "  plt.plot(values['train'])\n",
        "  plt.plot(values['val'])\n",
        "  plt.xlabel(\"epochs\")\n",
        "  plt.ylabel(metric)\n",
        "  plt.legend(values.keys())\n",
        "  plt.show()\n",
        "\n",
        "plot_performance('accuracy', accuracies)\n",
        "plot_performance('loss', losses)"
      ]
    },
    {
      "cell_type": "markdown",
      "metadata": {
        "id": "4IvhCRA_Auni"
      },
      "source": [
        "### Test model"
      ]
    },
    {
      "cell_type": "code",
      "execution_count": 53,
      "metadata": {
        "id": "hV7FKfz3Kh9L"
      },
      "outputs": [],
      "source": [
        "def test_model(model):\n",
        "\n",
        "    model.eval()   # Set model to evaluate mode\n",
        "\n",
        "    t_output = []\n",
        "    t_pred = []\n",
        "    y_test = []\n",
        "    top_k = []\n",
        "    # Iterate over data.\n",
        "    i = 1\n",
        "    for inputs, labels in dataloaders['test']:\n",
        "        \n",
        "        inputs = inputs.to(device)\n",
        "        labels = labels.to(device)\n",
        "        y_test.append(labels)\n",
        "\n",
        "        outputs = model(inputs.float())\n",
        "        _, preds = torch.max(outputs, 1)\n",
        "        t_pred.append(preds)\n",
        "        # temp1, temp2 = outputs.topk(5)\n",
        "        # top_k.append(temp2)\n",
        "\n",
        "    y_test = torch.cat(y_test).cpu().detach().numpy() \n",
        "    y_pred = torch.cat(t_pred).cpu().detach().numpy() \n",
        "    # y_pred = torch.cat(top_k).cpu().detach().numpy() \n",
        "\n",
        "    print('\\nConfusion Matrix')\n",
        "    conf_mt = confusion_matrix(y_test, y_pred)\n",
        "    print(conf_mt)\n",
        "    plt.matshow(conf_mt)\n",
        "    plt.show()\n",
        "    print('\\nClassification Report')\n",
        "    print(classification_report(y_test, y_pred, zero_division=0))"
      ]
    },
    {
      "cell_type": "code",
      "execution_count": 54,
      "metadata": {
        "colab": {
          "base_uri": "https://localhost:8080/",
          "height": 836
        },
        "id": "qvsilg2DKh9M",
        "outputId": "3333eb98-f27d-4130-c84c-e1a4399f1daa"
      },
      "outputs": [
        {
          "name": "stdout",
          "output_type": "stream",
          "text": [
            "\n",
            "Confusion Matrix\n",
            "[[ 7  0  0  1  0  0  0  0  2  0]\n",
            " [ 0 10  0  0  0  0  0  0  0  0]\n",
            " [ 1  2  5  0  0  0  0  0  1  1]\n",
            " [ 0  1  0  4  2  0  0  3  0  0]\n",
            " [ 0  0  0  1  9  0  0  0  0  0]\n",
            " [ 0  0  0  0  0 10  0  0  0  0]\n",
            " [ 0  0  0  0  1  0  9  0  0  0]\n",
            " [ 0  0  1  0  1  0  0  8  0  0]\n",
            " [ 0  0  1  1  1  0  0  1  6  0]\n",
            " [ 0  0  3  0  0  0  1  1  1  4]]\n"
          ]
        },
        {
          "data": {
            "image/png": "[encoded data removed]",
            "text/plain": [
              "<Figure size 288x288 with 1 Axes>"
            ]
          },
          "metadata": {
            "needs_background": "light"
          },
          "output_type": "display_data"
        },
        {
          "name": "stdout",
          "output_type": "stream",
          "text": [
            "\n",
            "Classification Report\n",
            "              precision    recall  f1-score   support\n",
            "\n",
            "           0       0.88      0.70      0.78        10\n",
            "           1       0.77      1.00      0.87        10\n",
            "           2       0.50      0.50      0.50        10\n",
            "           3       0.57      0.40      0.47        10\n",
            "           4       0.64      0.90      0.75        10\n",
            "           5       1.00      1.00      1.00        10\n",
            "           6       0.90      0.90      0.90        10\n",
            "           7       0.62      0.80      0.70        10\n",
            "           8       0.60      0.60      0.60        10\n",
            "           9       0.80      0.40      0.53        10\n",
            "\n",
            "    accuracy                           0.72       100\n",
            "   macro avg       0.73      0.72      0.71       100\n",
            "weighted avg       0.73      0.72      0.71       100\n",
            "\n"
          ]
        }
      ],
      "source": [
        "test_model(model)"
      ]
    }
  ],
  "metadata": {
    "accelerator": "GPU",
    "colab": {
      "collapsed_sections": [],
      "name": "deep_learning_cnn.ipynb",
      "provenance": []
    },
    "kernelspec": {
      "display_name": "Python 3",
      "language": "python",
      "name": "python3"
    },
    "language_info": {
      "codemirror_mode": {
        "name": "ipython",
        "version": 3
      },
      "file_extension": ".py",
      "mimetype": "text/x-python",
      "name": "python",
      "nbconvert_exporter": "python",
      "pygments_lexer": "ipython3",
      "version": "3.7.6"
    }
  },
  "nbformat": 4,
  "nbformat_minor": 0
}
