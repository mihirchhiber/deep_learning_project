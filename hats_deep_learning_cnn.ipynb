{
  "cells": [
    {
      "cell_type": "code",
      "execution_count": 1,
      "metadata": {
        "_cell_guid": "b1076dfc-b9ad-4769-8c92-a6c4dae69d19",
        "_uuid": "8f2839f25d086af736a60e9eeb907d3b93b6e0e5",
        "execution": {
          "iopub.execute_input": "2022-04-01T20:02:23.754496Z",
          "iopub.status.busy": "2022-04-01T20:02:23.753540Z",
          "iopub.status.idle": "2022-04-01T20:02:23.796312Z",
          "shell.execute_reply": "2022-04-01T20:02:23.795646Z",
          "shell.execute_reply.started": "2022-04-01T20:02:23.754444Z"
        },
        "id": "-1Fk6lZ6Kh89"
      },
      "outputs": [],
      "source": [
        "import numpy as np \n",
        "import pandas as pd \n",
        "from sklearn.model_selection import train_test_split\n",
        "from torch.utils.data import Dataset, DataLoader\n",
        "import torch\n",
        "import torch.nn as nn\n",
        "import torch.optim as optim\n",
        "from torch.optim import lr_scheduler\n",
        "from torchvision import datasets, models, transforms\n",
        "import time\n",
        "import copy\n",
        "import cv2\n",
        "from sklearn.metrics import roc_curve, auc, roc_auc_score, classification_report, confusion_matrix\n",
        "import matplotlib.pyplot as plt"
      ]
    },
    {
      "cell_type": "code",
      "source": [
        "from google.colab import drive\n",
        "drive.mount('/content/drive')"
      ],
      "metadata": {
        "id": "UqCF2XG0Kv6r",
        "colab": {
          "base_uri": "https://localhost:8080/"
        },
        "outputId": "80dee50c-b7db-47dc-c7c9-589963e68f85"
      },
      "execution_count": 2,
      "outputs": [
        {
          "output_type": "stream",
          "name": "stdout",
          "text": [
            "Mounted at /content/drive\n"
          ]
        }
      ]
    },
    {
      "cell_type": "code",
      "source": [
        "%cd /content/drive/MyDrive/Colab_Notebooks/DL/Project/deep_learning_project/"
      ],
      "metadata": {
        "colab": {
          "base_uri": "https://localhost:8080/"
        },
        "id": "y-1isf0KQKJh",
        "outputId": "22907e78-65e7-46f0-cf97-5c15a68e7bf0"
      },
      "execution_count": 3,
      "outputs": [
        {
          "output_type": "stream",
          "name": "stdout",
          "text": [
            "/content/drive/MyDrive/Colab_Notebooks/DL/Project/deep_learning_project\n"
          ]
        }
      ]
    },
    {
      "cell_type": "code",
      "execution_count": 51,
      "metadata": {
        "id": "RmPDCUlaKh9B"
      },
      "outputs": [],
      "source": [
        "df = pd.read_csv(\"Data/features_30_sec.csv\")\n",
        "df = df[['filename','label']]"
      ]
    },
    {
      "cell_type": "code",
      "source": [
        "df = df[df['filename'] != \"jazz.00054.wav\"]"
      ],
      "metadata": {
        "id": "Bu2_8YRcUP4H"
      },
      "execution_count": 52,
      "outputs": []
    },
    {
      "cell_type": "code",
      "source": [
        "df = df.reset_index()"
      ],
      "metadata": {
        "id": "ZiXdr916UZg9"
      },
      "execution_count": 53,
      "outputs": []
    },
    {
      "cell_type": "code",
      "source": [
        "df.pop('index')"
      ],
      "metadata": {
        "colab": {
          "base_uri": "https://localhost:8080/"
        },
        "id": "Lc08V5NvUb5D",
        "outputId": "aecce082-fd98-47c9-f16e-e1ca79e3c390"
      },
      "execution_count": 54,
      "outputs": [
        {
          "output_type": "execute_result",
          "data": {
            "text/plain": [
              "0        0\n",
              "1        1\n",
              "2        2\n",
              "3        3\n",
              "4        4\n",
              "      ... \n",
              "994    995\n",
              "995    996\n",
              "996    997\n",
              "997    998\n",
              "998    999\n",
              "Name: index, Length: 999, dtype: int64"
            ]
          },
          "metadata": {},
          "execution_count": 54
        }
      ]
    },
    {
      "cell_type": "code",
      "execution_count": 55,
      "metadata": {
        "id": "FW9HyigAKh9C"
      },
      "outputs": [],
      "source": [
        "class_name = {}\n",
        "n = 0\n",
        "for i in set(df['label']):\n",
        "    class_name[i] = n\n",
        "    n+=1\n",
        "num_classes = n"
      ]
    },
    {
      "cell_type": "code",
      "execution_count": 56,
      "metadata": {
        "id": "u0l10ILxKh9D",
        "colab": {
          "base_uri": "https://localhost:8080/"
        },
        "outputId": "76676181-930e-41a7-b9d7-a05e35cdf8c6"
      },
      "outputs": [
        {
          "output_type": "stream",
          "name": "stderr",
          "text": [
            "/usr/local/lib/python3.7/dist-packages/ipykernel_launcher.py:4: SettingWithCopyWarning: \n",
            "A value is trying to be set on a copy of a slice from a DataFrame\n",
            "\n",
            "See the caveats in the documentation: https://pandas.pydata.org/pandas-docs/stable/user_guide/indexing.html#returning-a-view-versus-a-copy\n",
            "  after removing the cwd from sys.path.\n"
          ]
        }
      ],
      "source": [
        "df['label'] = df['label'].map(class_name)\n",
        "for i in range(len(df)):\n",
        "    temp = df['filename'][i].split(\".\")\n",
        "    df['filename'][i] = \"Data/images_original/\" + temp[0] + \"/\" + temp[0] + temp[1] + \".png\""
      ]
    },
    {
      "cell_type": "code",
      "execution_count": 57,
      "metadata": {
        "id": "kfIneofqKh9E"
      },
      "outputs": [],
      "source": [
        "train, test = train_test_split(df, test_size=0.20, random_state=42, stratify = df['label'])\n",
        "test, val = train_test_split(test, test_size=0.50, random_state=42, stratify = test['label'])"
      ]
    },
    {
      "cell_type": "code",
      "execution_count": 58,
      "metadata": {
        "id": "9IjocTzLKh9F",
        "colab": {
          "base_uri": "https://localhost:8080/"
        },
        "outputId": "bbe942cf-0cc6-41dd-8ecf-3fffc307b149"
      },
      "outputs": [
        {
          "output_type": "stream",
          "name": "stdout",
          "text": [
            "{'train': 799, 'test': 100, 'val': 100}\n"
          ]
        }
      ],
      "source": [
        "dataset_sizes = {'train': len(train), 'test': len(test), 'val': len(val)}\n",
        "print(dataset_sizes)"
      ]
    },
    {
      "cell_type": "code",
      "execution_count": 59,
      "metadata": {
        "id": "MmZfgB66Kh9F"
      },
      "outputs": [],
      "source": [
        "class GenreDataset(Dataset):\n",
        "    \"\"\"Genre dataset.\"\"\"\n",
        "\n",
        "    def __init__(self, csv_file, transform=None):\n",
        "        \"\"\"\n",
        "        Args:\n",
        "            csv_file (string): Path to the csv file with annotations.\n",
        "            transform (callable, optional): Optional transform to be applied\n",
        "                on a sample.\n",
        "        \"\"\"\n",
        "        self.csv = csv_file\n",
        "        self.transform = transform\n",
        "\n",
        "    def __len__(self):\n",
        "        return len(self.csv)\n",
        "\n",
        "    def __getitem__(self, idx):\n",
        "        if torch.is_tensor(idx):\n",
        "            idx = idx.tolist()\n",
        "\n",
        "        img_name = self.csv.iloc[idx, 0]\n",
        "        image = cv2.imread(img_name,cv2.IMREAD_COLOR)\n",
        "        image = cv2.cvtColor(image, cv2.COLOR_BGR2GRAY)\n",
        "        image = np.expand_dims(image, axis=-1)\n",
        "        details = self.csv.iloc[idx, 1:]\n",
        "        sample = {'image': image, 'label': details[0]}\n",
        "\n",
        "        if self.transform:\n",
        "            sample = self.transform(sample)\n",
        "\n",
        "        return sample"
      ]
    },
    {
      "cell_type": "code",
      "execution_count": 60,
      "metadata": {
        "id": "apqhzUBRKh9G"
      },
      "outputs": [],
      "source": [
        "class PreProcessing(object):\n",
        "\n",
        "    def __init__(self):\n",
        "        pass\n",
        "\n",
        "    def __call__(self, sample):\n",
        "        image, turtle_id = sample['image'], sample['label']\n",
        "        h, w = image.shape[:2]\n",
        "        \n",
        "        ### ADD PREPROCESSING CODE HERE\n",
        "        \n",
        "        return [torch.Tensor(image.transpose(2,0,1)), turtle_id]"
      ]
    },
    {
      "cell_type": "code",
      "execution_count": 61,
      "metadata": {
        "id": "3Tnnx_S3Kh9H"
      },
      "outputs": [],
      "source": [
        "train_transformed_dataset = GenreDataset(csv_file=train,\n",
        "                                               transform=transforms.Compose([\n",
        "                                               PreProcessing()\n",
        "                                           ]))\n",
        "test_transformed_dataset = GenreDataset(csv_file=test,\n",
        "                                               transform=transforms.Compose([\n",
        "                                               PreProcessing()\n",
        "                                           ]))\n",
        "val_transformed_dataset = GenreDataset(csv_file=val,\n",
        "                                               transform=transforms.Compose([\n",
        "                                               PreProcessing()\n",
        "                                           ]))"
      ]
    },
    {
      "cell_type": "code",
      "execution_count": 62,
      "metadata": {
        "id": "-mCMdPlEKh9H"
      },
      "outputs": [],
      "source": [
        "dataloaders = {'train' : DataLoader(train_transformed_dataset, batch_size=16,\n",
        "                        shuffle=True, num_workers=0),\n",
        "              'test' : DataLoader(test_transformed_dataset, batch_size=8,\n",
        "                        shuffle=True, num_workers=0),\n",
        "              'val' : DataLoader(val_transformed_dataset, batch_size=16,\n",
        "                        shuffle=True, num_workers=0)}"
      ]
    },
    {
      "cell_type": "code",
      "execution_count": 63,
      "metadata": {
        "id": "CIgT8qDoKh9I"
      },
      "outputs": [],
      "source": [
        "device = torch.device(\"cuda:0\" if torch.cuda.is_available() else \"cpu\")"
      ]
    },
    {
      "cell_type": "markdown",
      "source": [
        "# Training Code - Normal"
      ],
      "metadata": {
        "id": "cVRFjmP8oN7e"
      }
    },
    {
      "cell_type": "code",
      "execution_count": 64,
      "metadata": {
        "id": "bxQ8vZICKh9I"
      },
      "outputs": [],
      "source": [
        "def train_model(model, criterion, optimizer, scheduler, num_epochs=25):\n",
        "    losses = {'train':[], 'val':[]}\n",
        "    accuracies = {'train':[], 'val':[]}\n",
        "    every_n_epoch = 5\n",
        "\n",
        "    since = time.time()\n",
        "\n",
        "    best_model_wts = copy.deepcopy(model.state_dict())\n",
        "    best_acc = 0.0\n",
        "\n",
        "    for epoch in range(num_epochs):\n",
        "        print('Epoch {}/{}'.format(epoch, num_epochs - 1))\n",
        "        print('-' * 10)\n",
        "\n",
        "        # Each epoch has a training and validation phase\n",
        "        for phase in ['train', 'val']:\n",
        "            if phase == 'train':\n",
        "                model.train()  # Set model to training mode\n",
        "            else:\n",
        "                model.eval()   # Set model to evaluate mode\n",
        "\n",
        "            running_loss = 0.0\n",
        "            running_corrects = 0\n",
        "\n",
        "            # Iterate over data.\n",
        "            for inputs, labels in dataloaders[phase]:\n",
        "                # inputs = inputs.type(torch.DoubleTensor)\n",
        "                inputs = inputs.to(device)\n",
        "                labels = labels.to(device)\n",
        "\n",
        "                # zero the parameter gradients\n",
        "                optimizer.zero_grad()\n",
        "\n",
        "                # forward\n",
        "                # track history if only in train\n",
        "                with torch.set_grad_enabled(phase == 'train'):\n",
        "                    outputs = model(inputs.float())\n",
        "                    _, preds = torch.max(outputs, 1)\n",
        "                    loss = criterion(outputs, labels)\n",
        "\n",
        "                    # backward + optimize only if in training phase\n",
        "                    if phase == 'train':\n",
        "                        loss.backward()\n",
        "                        optimizer.step()\n",
        "\n",
        "                # statistics\n",
        "                running_loss += loss.item() * inputs.size(0)\n",
        "                running_corrects += torch.sum(preds == labels.data)\n",
        "            if phase == 'train':\n",
        "                scheduler.step()\n",
        "\n",
        "            epoch_loss = running_loss / dataset_sizes[phase]\n",
        "            epoch_acc = running_corrects.double() / dataset_sizes[phase]\n",
        "\n",
        "            print('{} Loss: {:.4f} Acc: {:.4f}'.format(\n",
        "                phase, epoch_loss, epoch_acc))\n",
        "            \n",
        "            if epoch%every_n_epoch == 0:\n",
        "              losses[phase] += [epoch_loss]\n",
        "              accuracies[phase] += [epoch_acc.cpu().detach().numpy()]\n",
        "\n",
        "            # deep copy the model\n",
        "            if phase == 'val' and epoch_acc > best_acc:\n",
        "                best_acc = epoch_acc\n",
        "                best_model_wts = copy.deepcopy(model.state_dict())\n",
        "\n",
        "        print()\n",
        "\n",
        "    time_elapsed = time.time() - since\n",
        "    print('Training complete in {:.0f}m {:.0f}s'.format(\n",
        "        time_elapsed // 60, time_elapsed % 60))\n",
        "    print('Best val Acc: {:4f}'.format(best_acc))\n",
        "\n",
        "    # load best model weights\n",
        "    model.load_state_dict(best_model_wts)\n",
        "    return model, losses, accuracies"
      ]
    },
    {
      "cell_type": "markdown",
      "source": [
        "# Train code with Early Stopping"
      ],
      "metadata": {
        "id": "E1v1pCBEZcem"
      }
    },
    {
      "cell_type": "code",
      "source": [
        "def train_model(model, criterion, optimizer, scheduler, num_epochs=25):\n",
        "    losses = {'train':[], 'val':[]}\n",
        "    accuracies = {'train':[], 'val':[]}\n",
        "    every_n_epoch = 5\n",
        "\n",
        "    since = time.time()\n",
        "\n",
        "    best_model_wts = copy.deepcopy(model.state_dict())\n",
        "    best_acc = 0.0\n",
        "    stop_trigger = 0\n",
        "    patience = 5\n",
        "\n",
        "    for epoch in range(num_epochs):\n",
        "        print('Epoch {}/{}'.format(epoch, num_epochs - 1))\n",
        "        print('-' * 10)\n",
        "\n",
        "        # Each epoch has a training and validation phase\n",
        "        for phase in ['train', 'val']:\n",
        "            if phase == 'train':\n",
        "                model.train()  # Set model to training mode\n",
        "            else:\n",
        "                model.eval()   # Set model to evaluate model\n",
        "\n",
        "            running_loss = 0.0\n",
        "            running_corrects = 0\n",
        "\n",
        "            # Iterate over data.\n",
        "            for inputs, labels in dataloaders[phase]:\n",
        "                # inputs = inputs.type(torch.DoubleTensor)\n",
        "                inputs = inputs.to(device)\n",
        "                labels = labels.to(device)\n",
        "\n",
        "                # zero the parameter gradients\n",
        "                optimizer.zero_grad()\n",
        "\n",
        "                # forward\n",
        "                # track history if only in train\n",
        "                with torch.set_grad_enabled(phase == 'train'):\n",
        "                    outputs = model(inputs.float())\n",
        "                    _, preds = torch.max(outputs, 1)\n",
        "                    loss = criterion(outputs, labels)\n",
        "\n",
        "                    # backward + optimize only if in training phase\n",
        "                    if phase == 'train':\n",
        "                        loss.backward()\n",
        "                        optimizer.step()\n",
        "\n",
        "                # statistics\n",
        "                running_loss += loss.item() * inputs.size(0)\n",
        "                running_corrects += torch.sum(preds == labels.data)\n",
        "            if phase == 'train':\n",
        "                scheduler.step()\n",
        "\n",
        "            epoch_loss = running_loss / dataset_sizes[phase]\n",
        "            current_epoch_acc = running_corrects.double() / dataset_sizes[phase]\n",
        "\n",
        "            # if (current_epoch_acc >= max_val_acc):\n",
        "            #   max_val_acc = current_epoch_acc\n",
        "            #   stop_trigger = 0 # Reset count\n",
        "            \n",
        "            # elif (current_epoch_acc < max_val_acc):\n",
        "            #   stop_trigger += 1 \n",
        "            #   print(\"Triggered! --> \", stop_trigger , \"/\", patience)\n",
        "\n",
        "            # if stop_trigger == patience:\n",
        "            #     print(\"Early stopped!!!\")\n",
        "            #     break\n",
        "            \n",
        "            print('{} Loss: {:.4f} Acc: {:.4f}'.format(\n",
        "                phase, epoch_loss, current_epoch_acc))\n",
        "            # print(\"Max Validation Accuracy: \", max_val_acc)\n",
        "\n",
        "            if epoch%every_n_epoch == 0:\n",
        "              losses[phase] += [epoch_loss]\n",
        "              accuracies[phase] += [current_epoch_acc.cpu().detach().numpy()]\n",
        "\n",
        "            # deep copy the model\n",
        "            if phase == 'val' and current_epoch_acc >= best_acc:\n",
        "              best_acc = current_epoch_acc\n",
        "              best_model_wts = copy.deepcopy(model.state_dict())\n",
        "              stop_trigger = 0 # Reset count\n",
        "\n",
        "            elif phase == 'val' and current_epoch_acc < best_acc:\n",
        "              stop_trigger += 1\n",
        "              print(current_epoch_acc, best_acc)\n",
        "              print(\"Triggered! --> \", stop_trigger , \"/\", patience)\n",
        "            \n",
        "        if stop_trigger == patience:\n",
        "          print(\"Early Stopped!!!\")\n",
        "          break\n",
        "\n",
        "        print()\n",
        "\n",
        "    time_elapsed = time.time() - since\n",
        "    print('Training complete in {:.0f}m {:.0f}s'.format(\n",
        "        time_elapsed // 60, time_elapsed % 60))\n",
        "    print('Best val Acc: {:4f}'.format(best_acc))\n",
        "\n",
        "    # load best model weights\n",
        "    model.load_state_dict(best_model_wts)\n",
        "    return model, losses, accuracies"
      ],
      "metadata": {
        "id": "ImkR2DKjZgX5"
      },
      "execution_count": 65,
      "outputs": []
    },
    {
      "cell_type": "markdown",
      "metadata": {
        "id": "Ekd1XeXUKh9J"
      },
      "source": [
        "### Need to define our model below"
      ]
    },
    {
      "cell_type": "code",
      "source": [
        "\n",
        "import torch\n",
        "import torch.nn as nn\n",
        "\n",
        "def conv3x3(in_channels, out_channels, stride=1):\n",
        "    return nn.Conv2d(in_channels, out_channels, kernel_size=3, \n",
        "                     stride=stride, padding=1, bias=False)\n",
        "\n",
        "class ResidualBlock(nn.Module):\n",
        "    def __init__(self, in_channels, out_channels, stride=1, downsample=None):\n",
        "        super(ResidualBlock, self).__init__()\n",
        "        self.conv1 = conv3x3(in_channels, out_channels, stride)\n",
        "        self.bn1 = nn.BatchNorm2d(out_channels)\n",
        "        self.relu = nn.ReLU(inplace=True)\n",
        "        self.conv2 = conv3x3(out_channels, out_channels)\n",
        "        self.bn2 = nn.BatchNorm2d(out_channels)\n",
        "        self.downsample = downsample\n",
        "\n",
        "    def forward(self, x):\n",
        "        residual = x\n",
        "        out = self.conv1(x)\n",
        "        out = self.bn1(out)\n",
        "        out = self.relu(out)\n",
        "        out = self.conv2(out)\n",
        "        out = self.bn2(out)\n",
        "        if self.downsample:\n",
        "            residual = self.downsample(x)\n",
        "        out += residual\n",
        "        out = self.relu(out)\n",
        "        return out\n",
        "\n",
        "class ResNet(nn.Module):\n",
        "    def __init__(self, block, layers, num_classes=10):\n",
        "        super(ResNet, self).__init__()\n",
        "        self.in_channels = 16\n",
        "        self.conv = conv3x3(1, 16)\n",
        "        self.bn = nn.BatchNorm2d(16)\n",
        "        self.relu = nn.ReLU(inplace=True)\n",
        "        self.layer1 = self.make_layer(block, 16, layers[0])\n",
        "        self.layer2 = self.make_layer(block, 32, layers[1], 2)\n",
        "        self.layer3 = self.make_layer(block, 64, layers[2], 2)\n",
        "        self.avg_pool = nn.AvgPool2d(8)\n",
        "        # self.fc = nn.Linear(64, num_classes)\n",
        "        self.fc = nn.Linear(4480, num_classes)\n",
        "\n",
        "    def make_layer(self, block, out_channels, blocks, stride=1):\n",
        "        downsample = None\n",
        "        if (stride != 1) or (self.in_channels != out_channels):\n",
        "            downsample = nn.Sequential(\n",
        "                conv3x3(self.in_channels, out_channels, stride=stride),\n",
        "                nn.BatchNorm2d(out_channels))\n",
        "        layers = []\n",
        "        layers.append(block(self.in_channels, out_channels, stride, downsample))\n",
        "        self.in_channels = out_channels\n",
        "        for i in range(1, blocks):\n",
        "            layers.append(block(out_channels, out_channels))\n",
        "        return nn.Sequential(*layers)\n",
        "\n",
        "    def forward(self, x):\n",
        "        out = self.conv(x)\n",
        "        out = self.bn(out)\n",
        "        out = self.relu(out)\n",
        "        out = self.layer1(out)\n",
        "        out = self.layer2(out)\n",
        "        out = self.layer3(out)\n",
        "        out = self.avg_pool(out)\n",
        "        out = out.view(out.size(0), -1)\n",
        "        out = self.fc(out)\n",
        "        # print(out)\n",
        "        return out"
      ],
      "metadata": {
        "id": "ftGij_D2-uSm"
      },
      "execution_count": 66,
      "outputs": []
    },
    {
      "cell_type": "code",
      "source": [
        "# model = CNN()\n",
        "model = ResNet(ResidualBlock, [2, 2, 2]).to(device)\n",
        "print(\"# of trainable parameters:\",sum(p.numel() for p in model.parameters() if p.requires_grad))\n",
        "\n",
        "criterion = nn.CrossEntropyLoss()\n",
        "optimizer = optim.SGD(model.parameters(), lr=0.001, momentum=0.9) \n",
        "# optimizer = optim.Adam(model.parameters(), lr=0.001)\n",
        "exp_lr_scheduler = lr_scheduler.StepLR(optimizer, step_size=7, gamma=0.1)"
      ],
      "metadata": {
        "id": "W7opS8QSuYfy",
        "colab": {
          "base_uri": "https://localhost:8080/"
        },
        "outputId": "3204e56b-1c76-4ed2-e93a-36af669e7ed5"
      },
      "execution_count": 67,
      "outputs": [
        {
          "output_type": "stream",
          "name": "stdout",
          "text": [
            "# of trainable parameters: 239610\n"
          ]
        }
      ]
    },
    {
      "cell_type": "code",
      "source": [
        "torch.cuda.empty_cache() "
      ],
      "metadata": {
        "id": "Sr2kF6r41dFc"
      },
      "execution_count": 68,
      "outputs": []
    },
    {
      "cell_type": "code",
      "source": [
        "model = model.to(device)"
      ],
      "metadata": {
        "id": "Fksh1kxBlikR"
      },
      "execution_count": 69,
      "outputs": []
    },
    {
      "cell_type": "code",
      "source": [
        "model, losses, accuracies = train_model(model, criterion, optimizer, exp_lr_scheduler,100)"
      ],
      "metadata": {
        "colab": {
          "base_uri": "https://localhost:8080/"
        },
        "id": "OKdH4WmavZ3e",
        "outputId": "fb429eab-3973-416e-9310-c63efca9c674"
      },
      "execution_count": 70,
      "outputs": [
        {
          "output_type": "stream",
          "name": "stdout",
          "text": [
            "Epoch 0/99\n",
            "----------\n",
            "train Loss: 2.2181 Acc: 0.2103\n",
            "val Loss: 1.8781 Acc: 0.3100\n",
            "\n",
            "Epoch 1/99\n",
            "----------\n",
            "train Loss: 1.6886 Acc: 0.4093\n",
            "val Loss: 1.6362 Acc: 0.3500\n",
            "\n",
            "Epoch 2/99\n",
            "----------\n",
            "train Loss: 1.4880 Acc: 0.4731\n",
            "val Loss: 1.3110 Acc: 0.4700\n",
            "\n",
            "Epoch 3/99\n",
            "----------\n",
            "train Loss: 1.2976 Acc: 0.5482\n",
            "val Loss: 1.1806 Acc: 0.6200\n",
            "\n",
            "Epoch 4/99\n",
            "----------\n",
            "train Loss: 1.1792 Acc: 0.6070\n",
            "val Loss: 1.1826 Acc: 0.5300\n",
            "tensor(0.5300, device='cuda:0', dtype=torch.float64) tensor(0.6200, device='cuda:0', dtype=torch.float64)\n",
            "Triggered! -->  1 / 5\n",
            "\n",
            "Epoch 5/99\n",
            "----------\n",
            "train Loss: 0.9531 Acc: 0.6783\n",
            "val Loss: 1.1333 Acc: 0.6200\n",
            "\n",
            "Epoch 6/99\n",
            "----------\n",
            "train Loss: 0.8412 Acc: 0.7109\n",
            "val Loss: 1.5036 Acc: 0.5300\n",
            "tensor(0.5300, device='cuda:0', dtype=torch.float64) tensor(0.6200, device='cuda:0', dtype=torch.float64)\n",
            "Triggered! -->  1 / 5\n",
            "\n",
            "Epoch 7/99\n",
            "----------\n",
            "train Loss: 0.6243 Acc: 0.8210\n",
            "val Loss: 0.9163 Acc: 0.7100\n",
            "\n",
            "Epoch 8/99\n",
            "----------\n",
            "train Loss: 0.5526 Acc: 0.8398\n",
            "val Loss: 0.8858 Acc: 0.7400\n",
            "\n",
            "Epoch 9/99\n",
            "----------\n",
            "train Loss: 0.5656 Acc: 0.8323\n",
            "val Loss: 0.8682 Acc: 0.7500\n",
            "\n",
            "Epoch 10/99\n",
            "----------\n",
            "train Loss: 0.5235 Acc: 0.8423\n",
            "val Loss: 0.8492 Acc: 0.7600\n",
            "\n",
            "Epoch 11/99\n",
            "----------\n",
            "train Loss: 0.4995 Acc: 0.8548\n",
            "val Loss: 0.8471 Acc: 0.7500\n",
            "tensor(0.7500, device='cuda:0', dtype=torch.float64) tensor(0.7600, device='cuda:0', dtype=torch.float64)\n",
            "Triggered! -->  1 / 5\n",
            "\n",
            "Epoch 12/99\n",
            "----------\n",
            "train Loss: 0.4898 Acc: 0.8511\n",
            "val Loss: 0.8710 Acc: 0.7600\n",
            "\n",
            "Epoch 13/99\n",
            "----------\n",
            "train Loss: 0.4856 Acc: 0.8398\n",
            "val Loss: 0.9027 Acc: 0.7200\n",
            "tensor(0.7200, device='cuda:0', dtype=torch.float64) tensor(0.7600, device='cuda:0', dtype=torch.float64)\n",
            "Triggered! -->  1 / 5\n",
            "\n",
            "Epoch 14/99\n",
            "----------\n",
            "train Loss: 0.4698 Acc: 0.8636\n",
            "val Loss: 0.8574 Acc: 0.7500\n",
            "tensor(0.7500, device='cuda:0', dtype=torch.float64) tensor(0.7600, device='cuda:0', dtype=torch.float64)\n",
            "Triggered! -->  2 / 5\n",
            "\n",
            "Epoch 15/99\n",
            "----------\n",
            "train Loss: 0.4570 Acc: 0.8698\n",
            "val Loss: 0.8446 Acc: 0.7700\n",
            "\n",
            "Epoch 16/99\n",
            "----------\n",
            "train Loss: 0.4373 Acc: 0.8886\n",
            "val Loss: 0.8368 Acc: 0.7600\n",
            "tensor(0.7600, device='cuda:0', dtype=torch.float64) tensor(0.7700, device='cuda:0', dtype=torch.float64)\n",
            "Triggered! -->  1 / 5\n",
            "\n",
            "Epoch 17/99\n",
            "----------\n",
            "train Loss: 0.4574 Acc: 0.8623\n",
            "val Loss: 0.8446 Acc: 0.7500\n",
            "tensor(0.7500, device='cuda:0', dtype=torch.float64) tensor(0.7700, device='cuda:0', dtype=torch.float64)\n",
            "Triggered! -->  2 / 5\n",
            "\n",
            "Epoch 18/99\n",
            "----------\n",
            "train Loss: 0.4531 Acc: 0.8636\n",
            "val Loss: 0.8467 Acc: 0.7800\n",
            "\n",
            "Epoch 19/99\n",
            "----------\n",
            "train Loss: 0.4451 Acc: 0.8711\n",
            "val Loss: 0.8450 Acc: 0.7400\n",
            "tensor(0.7400, device='cuda:0', dtype=torch.float64) tensor(0.7800, device='cuda:0', dtype=torch.float64)\n",
            "Triggered! -->  1 / 5\n",
            "\n",
            "Epoch 20/99\n",
            "----------\n",
            "train Loss: 0.4437 Acc: 0.8711\n",
            "val Loss: 0.8499 Acc: 0.7800\n",
            "\n",
            "Epoch 21/99\n",
            "----------\n",
            "train Loss: 0.4174 Acc: 0.8849\n",
            "val Loss: 0.8428 Acc: 0.7900\n",
            "\n",
            "Epoch 22/99\n",
            "----------\n",
            "train Loss: 0.4455 Acc: 0.8648\n",
            "val Loss: 0.8383 Acc: 0.7600\n",
            "tensor(0.7600, device='cuda:0', dtype=torch.float64) tensor(0.7900, device='cuda:0', dtype=torch.float64)\n",
            "Triggered! -->  1 / 5\n",
            "\n",
            "Epoch 23/99\n",
            "----------\n",
            "train Loss: 0.4145 Acc: 0.8861\n",
            "val Loss: 0.8449 Acc: 0.7600\n",
            "tensor(0.7600, device='cuda:0', dtype=torch.float64) tensor(0.7900, device='cuda:0', dtype=torch.float64)\n",
            "Triggered! -->  2 / 5\n",
            "\n",
            "Epoch 24/99\n",
            "----------\n",
            "train Loss: 0.4382 Acc: 0.8648\n",
            "val Loss: 0.8393 Acc: 0.7600\n",
            "tensor(0.7600, device='cuda:0', dtype=torch.float64) tensor(0.7900, device='cuda:0', dtype=torch.float64)\n",
            "Triggered! -->  3 / 5\n",
            "\n",
            "Epoch 25/99\n",
            "----------\n",
            "train Loss: 0.4359 Acc: 0.8661\n",
            "val Loss: 0.8396 Acc: 0.7900\n",
            "\n",
            "Epoch 26/99\n",
            "----------\n",
            "train Loss: 0.4318 Acc: 0.8786\n",
            "val Loss: 0.8599 Acc: 0.7500\n",
            "tensor(0.7500, device='cuda:0', dtype=torch.float64) tensor(0.7900, device='cuda:0', dtype=torch.float64)\n",
            "Triggered! -->  1 / 5\n",
            "\n",
            "Epoch 27/99\n",
            "----------\n",
            "train Loss: 0.4414 Acc: 0.8661\n",
            "val Loss: 0.8440 Acc: 0.7600\n",
            "tensor(0.7600, device='cuda:0', dtype=torch.float64) tensor(0.7900, device='cuda:0', dtype=torch.float64)\n",
            "Triggered! -->  2 / 5\n",
            "\n",
            "Epoch 28/99\n",
            "----------\n",
            "train Loss: 0.4432 Acc: 0.8661\n",
            "val Loss: 0.8573 Acc: 0.7800\n",
            "tensor(0.7800, device='cuda:0', dtype=torch.float64) tensor(0.7900, device='cuda:0', dtype=torch.float64)\n",
            "Triggered! -->  3 / 5\n",
            "\n",
            "Epoch 29/99\n",
            "----------\n",
            "train Loss: 0.4259 Acc: 0.8761\n",
            "val Loss: 0.8477 Acc: 0.7800\n",
            "tensor(0.7800, device='cuda:0', dtype=torch.float64) tensor(0.7900, device='cuda:0', dtype=torch.float64)\n",
            "Triggered! -->  4 / 5\n",
            "\n",
            "Epoch 30/99\n",
            "----------\n",
            "train Loss: 0.4373 Acc: 0.8798\n",
            "val Loss: 0.8467 Acc: 0.7600\n",
            "tensor(0.7600, device='cuda:0', dtype=torch.float64) tensor(0.7900, device='cuda:0', dtype=torch.float64)\n",
            "Triggered! -->  5 / 5\n",
            "Early Stopped!!!\n",
            "Training complete in 13m 2s\n",
            "Best val Acc: 0.790000\n"
          ]
        }
      ]
    },
    {
      "cell_type": "code",
      "source": [
        "def plot_performance(metric, values):\n",
        "  plt.plot(values['train'])\n",
        "  plt.plot(values['val'])\n",
        "  plt.xlabel(\"epochs\")\n",
        "  plt.ylabel(metric)\n",
        "  plt.legend(values.keys())\n",
        "  plt.show()\n",
        "\n",
        "plot_performance('accuracy', accuracies)\n",
        "plot_performance('loss', losses)"
      ],
      "metadata": {
        "colab": {
          "base_uri": "https://localhost:8080/",
          "height": 541
        },
        "id": "GKgYTrqVhDQd",
        "outputId": "35eb7a6c-5ee7-4e27-c5bb-8e452f310d26"
      },
      "execution_count": 71,
      "outputs": [
        {
          "output_type": "display_data",
          "data": {
            "text/plain": [
              "<Figure size 432x288 with 1 Axes>"
            ],
            "image/png": "[encoded data removed]"
          },
          "metadata": {
            "needs_background": "light"
          }
        },
        {
          "output_type": "display_data",
          "data": {
            "text/plain": [
              "<Figure size 432x288 with 1 Axes>"
            ],
            "image/png": "[encoded data removed]"
          },
          "metadata": {
            "needs_background": "light"
          }
        }
      ]
    },
    {
      "cell_type": "code",
      "source": [
        "torch.save(model.state_dict(),\"weights_earlystopping3.pth\")"
      ],
      "metadata": {
        "id": "DzpzBJ-Iw3x1"
      },
      "execution_count": 72,
      "outputs": []
    },
    {
      "cell_type": "code",
      "execution_count": 73,
      "metadata": {
        "id": "hV7FKfz3Kh9L"
      },
      "outputs": [],
      "source": [
        "def test_model(model, criterion):\n",
        "\n",
        "    model.eval()   # Set model to evaluate mode\n",
        "\n",
        "    t_output = []\n",
        "    t_pred = []\n",
        "    y_test = []\n",
        "    top_k = []\n",
        "    # Iterate over data.\n",
        "    i = 1\n",
        "    for inputs, labels in dataloaders['test']:\n",
        "        \n",
        "        inputs = inputs.to(device)\n",
        "        labels = labels.to(device)\n",
        "        y_test.append(labels)\n",
        "\n",
        "        # forward\n",
        "        # track history if only in train\n",
        "        with torch.no_grad():\n",
        "            outputs = model(inputs.float())\n",
        "            _, preds = torch.max(outputs, 1)\n",
        "            loss = criterion(outputs, labels)\n",
        "            t_output.append(outputs)\n",
        "            t_pred.append(preds)\n",
        "            temp1, temp2 = outputs.topk(5)\n",
        "            top_k.append(temp2)\n",
        "\n",
        "    y_test = torch.cat(y_test).cpu().detach().numpy() \n",
        "    y_test_num = torch.cat(t_pred).cpu().detach().numpy() \n",
        "    y_pred = torch.cat(top_k).cpu().detach().numpy() \n",
        "\n",
        "    print('\\nConfusion Matrix')\n",
        "    conf_mt = confusion_matrix(y_test_num, y_test)\n",
        "    print(conf_mt)\n",
        "    plt.matshow(conf_mt)\n",
        "    plt.show()\n",
        "    print('\\nClassification Report')\n",
        "    print(classification_report(y_test_num, y_test, zero_division=0))"
      ]
    },
    {
      "cell_type": "code",
      "source": [
        "torch.cuda.empty_cache() "
      ],
      "metadata": {
        "id": "s5DtNSQ8ggFO"
      },
      "execution_count": 74,
      "outputs": []
    },
    {
      "cell_type": "code",
      "execution_count": 75,
      "metadata": {
        "colab": {
          "base_uri": "https://localhost:8080/",
          "height": 813
        },
        "id": "qvsilg2DKh9M",
        "outputId": "26b1be31-5342-4718-deed-2ed9ed532f98"
      },
      "outputs": [
        {
          "output_type": "stream",
          "name": "stdout",
          "text": [
            "\n",
            "Confusion Matrix\n",
            "[[ 8  2  0  0  1  1  0  0  0  0]\n",
            " [ 1  6  1  0  1  0  0  0  0  0]\n",
            " [ 0  0  4  0  1  0  0  0  0  0]\n",
            " [ 1  0  2  7  0  1  1  0  0  0]\n",
            " [ 0  1  2  1  5  1  1  0  1  0]\n",
            " [ 0  0  0  0  0  6  0  0  0  0]\n",
            " [ 0  1  0  2  1  0  7  0  0  0]\n",
            " [ 0  0  1  0  0  0  1 10  0  0]\n",
            " [ 0  0  0  0  0  1  0  0  9  1]\n",
            " [ 0  0  0  0  1  0  0  0  0  9]]\n"
          ]
        },
        {
          "output_type": "display_data",
          "data": {
            "text/plain": [
              "<Figure size 288x288 with 1 Axes>"
            ],
            "image/png": "[encoded data removed]"
          },
          "metadata": {
            "needs_background": "light"
          }
        },
        {
          "output_type": "stream",
          "name": "stdout",
          "text": [
            "\n",
            "Classification Report\n",
            "              precision    recall  f1-score   support\n",
            "\n",
            "           0       0.80      0.67      0.73        12\n",
            "           1       0.60      0.67      0.63         9\n",
            "           2       0.40      0.80      0.53         5\n",
            "           3       0.70      0.58      0.64        12\n",
            "           4       0.50      0.42      0.45        12\n",
            "           5       0.60      1.00      0.75         6\n",
            "           6       0.70      0.64      0.67        11\n",
            "           7       1.00      0.83      0.91        12\n",
            "           8       0.90      0.82      0.86        11\n",
            "           9       0.90      0.90      0.90        10\n",
            "\n",
            "    accuracy                           0.71       100\n",
            "   macro avg       0.71      0.73      0.71       100\n",
            "weighted avg       0.74      0.71      0.71       100\n",
            "\n"
          ]
        }
      ],
      "source": [
        "test_model(model, criterion)"
      ]
    },
    {
      "cell_type": "code",
      "source": [
        ""
      ],
      "metadata": {
        "id": "JVmqc5OzcM2n"
      },
      "execution_count": null,
      "outputs": []
    }
  ],
  "metadata": {
    "kernelspec": {
      "display_name": "Python 3",
      "language": "python",
      "name": "python3"
    },
    "language_info": {
      "codemirror_mode": {
        "name": "ipython",
        "version": 3
      },
      "file_extension": ".py",
      "mimetype": "text/x-python",
      "name": "python",
      "nbconvert_exporter": "python",
      "pygments_lexer": "ipython3",
      "version": "3.7.6"
    },
    "colab": {
      "name": "Copy of deep_learning_cnn.ipynb",
      "provenance": [],
      "collapsed_sections": []
    },
    "accelerator": "GPU"
  },
  "nbformat": 4,
  "nbformat_minor": 0
}